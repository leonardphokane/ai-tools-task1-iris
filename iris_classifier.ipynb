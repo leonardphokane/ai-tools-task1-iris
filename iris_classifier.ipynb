{
 "cells": [
  {
   "cell_type": "markdown",
   "id": "d4aa6cd9",
   "metadata": {},
   "source": [
    "# 🌼 Iris Species Classifier  \n",
    "A decision tree model built with Scikit-learn to classify iris flower species.\n"
   ]
  },
  {
   "cell_type": "markdown",
   "id": "d09d465f",
   "metadata": {},
   "source": []
  },
  {
   "cell_type": "markdown",
   "id": "9de8ff7b",
   "metadata": {},
   "source": [
    "### 🖼️ Dataset Preview (Terminal Output)\n",
    "\n",
    "Below is a screenshot showing the first few rows of the Iris dataset loaded in the terminal.\n",
    "\n",
    "![Iris Dataset Preview](iris_dataset_preview.png)\n"
   ]
  },
  {
   "cell_type": "markdown",
   "id": "c64145cf",
   "metadata": {},
   "source": [
    "## 📥 Load and Preview the Iris Dataset\n",
    "We use Scikit-learn’s built-in Iris dataset and load it into a pandas DataFrame.\n"
   ]
  },
  {
   "cell_type": "code",
   "execution_count": null,
   "id": "0fcdc3f5",
   "metadata": {},
   "outputs": [],
   "source": [
    "# Load the Iris dataset and convert it into a DataFrame\n",
    "from sklearn.datasets import load_iris\n",
    "import pandas as pd\n",
    "\n",
    "# Load the dataset\n",
    "iris = load_iris()\n",
    "df = pd.DataFrame(data=iris.data, columns=iris.feature_names)\n",
    "df['target'] = iris.target  # Add the species label column\n",
    "\n",
    "# Preview the first 5 rows\n",
    "df.head()\n"
   ]
  },
  {
   "cell_type": "markdown",
   "id": "378cd1b5",
   "metadata": {
    "vscode": {
     "languageId": "plaintext"
    }
   },
   "source": [
    "## 🧹 Preprocessing and Train-Test Split  \n",
    "We separate features and labels, then split the dataset into 80% training and 20% testing sets to evaluate the model's performance later.\n"
   ]
  },
  {
   "cell_type": "markdown",
   "id": "f0e46a01",
   "metadata": {},
   "source": []
  },
  {
   "cell_type": "markdown",
   "id": "0b1de4bf",
   "metadata": {},
   "source": [
    "from sklearn.model_selection import train_test_split\n",
    "\n",
    "# Separate features and target label\n",
    "X = df.drop('target', axis=1)  # Features\n",
    "y = df['target']               # Labels\n",
    "\n",
    "# Split into training and test data (80% train, 20% test)\n",
    "X_train, X_test, y_train, y_test = train_test_split(X, y, test_size=0.2, random_state=42)\n",
    "\n",
    "# Confirm the split\n",
    "print(f\"Training samples: {X_train.shape[0]}\")\n",
    "print(f\"Testing samples: {X_test.shape[0]}\")\n"
   ]
  },
  {
   "cell_type": "markdown",
   "id": "54a84edd",
   "metadata": {},
   "source": [
    "## 🧾 Model Evaluation: Classification Report  \n",
    "We use Scikit-learn's `classification_report` to evaluate the model's accuracy, precision, recall, and F1-score across all three iris species.\n"
   ]
  },
  {
   "cell_type": "markdown",
   "id": "342241a6",
   "metadata": {},
   "source": [
    "from sklearn.metrics import classification_report\n",
    "\n",
    "# Make predictions on the test data\n",
    "y_pred = model.predict(X_test)\n",
    "\n",
    "# Generate and display classification metrics\n",
    "print(\"Classification Report:\")\n",
    "print(classification_report(y_test, y_pred, target_names=iris.target_names))\n"
   ]
  },
  {
   "cell_type": "markdown",
   "id": "de54724c",
   "metadata": {},
   "source": []
  },
  {
   "cell_type": "markdown",
   "id": "4fc0dd07",
   "metadata": {},
   "source": []
  },
  {
   "cell_type": "markdown",
   "id": "2c567b63",
   "metadata": {},
   "source": [
    "## ✅ Conclusion  \n",
    "The Decision Tree Classifier achieved 100% accuracy on the Iris dataset, showing strong performance across all three species. This demonstrates how classical ML models can be powerful for well-structured datasets.\n"
   ]
  },
  {
   "cell_type": "markdown",
   "id": "455be41c",
   "metadata": {},
   "source": []
  },
  {
   "cell_type": "markdown",
   "id": "9189a780",
   "metadata": {},
   "source": [
    "## 🌿 Data Visualization: Petal Length vs Width  \n",
    "This scatter plot shows how petal measurements help distinguish iris species.\n"
   ]
  },
  {
   "cell_type": "markdown",
   "id": "6d940f91",
   "metadata": {},
   "source": []
  },
  {
   "cell_type": "code",
   "execution_count": null,
   "id": "fae39823",
   "metadata": {},
   "outputs": [],
   "source": [
    "import matplotlib.pyplot as plt\n",
    "\n",
    "# Color-code by species\n",
    "plt.figure(figsize=(8, 5))\n",
    "scatter = plt.scatter(df['petal length (cm)'], df['petal width (cm)'], c=df['target'], cmap='viridis')\n",
    "plt.title(\"Petal Length vs Width by Iris Species\")\n",
    "plt.xlabel(\"Petal Length (cm)\")\n",
    "plt.ylabel(\"Petal Width (cm)\")\n",
    "plt.colorbar(label='Species (0=setosa, 1=versicolor, 2=virginica)')\n",
    "plt.grid(True)\n",
    "plt.show()\n"
   ]
  },
  {
   "cell_type": "markdown",
   "id": "6f877e0c",
   "metadata": {},
   "source": []
  },
  {
   "cell_type": "markdown",
   "id": "97651372",
   "metadata": {},
   "source": [
    "## 🌳 Decision Tree Visualization  \n",
    "A graphical representation of the trained model’s decision paths.\n"
   ]
  },
  {
   "cell_type": "markdown",
   "id": "b2ebd0a7",
   "metadata": {},
   "source": []
  },
  {
   "cell_type": "code",
   "execution_count": null,
   "id": "cf4ac437",
   "metadata": {},
   "outputs": [],
   "source": [
    "from sklearn.tree import plot_tree\n",
    "\n",
    "plt.figure(figsize=(20, 10))\n",
    "plot_tree(model, filled=True, feature_names=iris.feature_names, class_names=iris.target_names)\n",
    "plt.title(\"Decision Tree Classifier for Iris Dataset\")\n",
    "plt.show()\n"
   ]
  },
  {
   "cell_type": "code",
   "execution_count": null,
   "id": "b8b24c54",
   "metadata": {},
   "outputs": [],
   "source": []
  },
  {
   "cell_type": "code",
   "execution_count": null,
   "id": "0d10e1eb",
   "metadata": {},
   "outputs": [],
   "source": []
  },
  {
   "cell_type": "markdown",
   "id": "40e6c34c",
   "metadata": {},
   "source": []
  },
  {
   "cell_type": "markdown",
   "id": "b84d03a3",
   "metadata": {},
   "source": []
  },
  {
   "cell_type": "markdown",
   "id": "9d079a50",
   "metadata": {},
   "source": []
  },
  {
   "cell_type": "markdown",
   "id": "d8245b29",
   "metadata": {},
   "source": []
  },
  {
   "cell_type": "markdown",
   "id": "521fd116",
   "metadata": {},
   "source": []
  },
  {
   "cell_type": "markdown",
   "metadata": {},
   "source": []
  },
  {
   "cell_type": "markdown",
   "id": "f83fb863",
   "metadata": {},
   "source": []
  },
  {
   "cell_type": "code",
   "execution_count": null,
   "id": "55af4f33",
   "metadata": {},
   "outputs": [],
   "source": []
  },
  {
   "cell_type": "code",
   "execution_count": null,
   "id": "8266d2a2",
   "metadata": {},
   "outputs": [],
   "source": []
  }
 ],
 "metadata": {
  "kernelspec": {
   "display_name": "Python 3",
   "language": "python",
   "name": "python3"
  },
  "language_info": {
   "name": "python",
   "version": "3.12.4"
  }
 },
 "nbformat": 4,
 "nbformat_minor": 5
}
