{
 "cells": [
  {
   "cell_type": "markdown",
   "id": "7ec68d0b",
   "metadata": {},
   "source": [
    "\n",
    "The script uses spaCy for entity detection and a simple keyword approach for sentiment."
   ]
  },
  {
   "cell_type": "markdown",
   "metadata": {},
   "source": [
    "🧾 Named Entities:\n",
    " - Samsung Galaxy S22 (PRODUCT)\n",
    " - Apple (ORG)\n",
    "\n",
    "💬 Sentiment Analysis:\n",
    " - Sentiment: Positive\n",
    " - Positive Keywords Found: [amazing]\n",
    " - Negative Keywords Found: [expensive]"
   ]
  },
  {
   "cell_type": "code",
   "execution_count": null,
   "id": "095e447c",
   "metadata": {
    "vscode": {
     "languageId": "plaintext"
    }
   },
   "outputs": [],
   "source": [
    "Named Entity Recognition & Sentiment Analysis"
   ]
  },
  {
   "cell_type": "markdown",
   "id": "ecf70fa6",
   "metadata": {},
   "source": []
  },
  {
   "cell_type": "code",
   "execution_count": null,
   "metadata": {
    "vscode": {
     "languageId": "plaintext"
    }
   },
   "outputs": [],
   "source": [
    "import spacy\n",
    "\n",
    "# Sample text to analyze\n",
    "text = \"I just bought a Samsung Galaxy S22 and it's amazing! But the charger from Apple was too expensive.\"\n",
    "\n",
    "# Load spaCy English model\n",
    "nlp = spacy.load(\"en_core_web_sm\")\n",
    "doc = nlp(text)\n",
    "\n",
    "# Named Entity Recognition\n",
    "print(\"🧾 Named Entities:\")\n",
    "for ent in doc.ents:\n",
    "    if ent.label_ in ['PRODUCT', 'ORG']:\n",
    "        print(f\" - {ent.text} ({ent.label_})\")\n",
    "\n",
    "# Simple Rule-Based Sentiment Analysis\n",
    "positive_keywords = [\"amazing\", \"great\", \"excellent\", \"love\"]\n",
    "negative_keywords = [\"expensive\", \"bad\", \"poor\", \"hate\"]\n",
    "\n",
    "positive_hits = [word for word in doc if word.text.lower() in positive_keywords]\n",
    "negative_hits = [word for word in doc if word.text.lower() in negative_keywords]\n",
    "\n",
    "# Determine sentiment\n",
    "sentiment = \"Positive\" if len(positive_hits) > len(negative_hits) else \"Negative\" if negative_hits else \"Neutral\"\n",
    "\n",
    "print(\"\\n💬 Sentiment Analysis:\")\n",
    "print(f\" - Sentiment: {sentiment}\")\n",
    "print(f\" - Positive Keywords Found: {positive_hits}\")\n",
    "print(f\" - Negative Keywords Found: {negative_hits}\")\n"
   ]
  }
 ],
 "metadata": {
  "language_info": {
   "name": "python"
  }
 },
 "nbformat": 4,
 "nbformat_minor": 5
}
